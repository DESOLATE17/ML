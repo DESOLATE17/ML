{
  "nbformat": 4,
  "nbformat_minor": 0,
  "metadata": {
    "colab": {
      "provenance": [],
      "include_colab_link": true
    },
    "kernelspec": {
      "name": "python3",
      "display_name": "Python 3"
    },
    "language_info": {
      "name": "python"
    }
  },
  "cells": [
    {
      "cell_type": "markdown",
      "metadata": {
        "id": "view-in-github",
        "colab_type": "text"
      },
      "source": [
        "<a href=\"https://colab.research.google.com/github/DESOLATE17/ML/blob/main/Lab_6.ipynb\" target=\"_parent\"><img src=\"https://colab.research.google.com/assets/colab-badge.svg\" alt=\"Open In Colab\"/></a>"
      ]
    },
    {
      "cell_type": "markdown",
      "source": [
        "## Лабораторная работа 6. Ансамбли моделей машинного обучения. Часть 2."
      ],
      "metadata": {
        "id": "tXIHL3zpkOrL"
      }
    },
    {
      "cell_type": "code",
      "source": [
        "!pip install heamy"
      ],
      "metadata": {
        "id": "CwZalOUlrXUz",
        "colab": {
          "base_uri": "https://localhost:8080/"
        },
        "outputId": "a0355c2b-8641-451c-ac5f-57fa93d7f4ae"
      },
      "execution_count": 1,
      "outputs": [
        {
          "output_type": "stream",
          "name": "stdout",
          "text": [
            "Collecting heamy\n",
            "  Downloading heamy-0.0.7.tar.gz (30 kB)\n",
            "  Preparing metadata (setup.py) ... \u001b[?25l\u001b[?25hdone\n",
            "Requirement already satisfied: scikit-learn>=0.17.0 in /usr/local/lib/python3.10/dist-packages (from heamy) (1.2.2)\n",
            "Requirement already satisfied: pandas>=0.17.0 in /usr/local/lib/python3.10/dist-packages (from heamy) (2.0.3)\n",
            "Requirement already satisfied: six>=1.10.0 in /usr/local/lib/python3.10/dist-packages (from heamy) (1.16.0)\n",
            "Requirement already satisfied: scipy>=0.16.0 in /usr/local/lib/python3.10/dist-packages (from heamy) (1.11.4)\n",
            "Requirement already satisfied: numpy>=1.7.0 in /usr/local/lib/python3.10/dist-packages (from heamy) (1.25.2)\n",
            "Requirement already satisfied: python-dateutil>=2.8.2 in /usr/local/lib/python3.10/dist-packages (from pandas>=0.17.0->heamy) (2.8.2)\n",
            "Requirement already satisfied: pytz>=2020.1 in /usr/local/lib/python3.10/dist-packages (from pandas>=0.17.0->heamy) (2023.4)\n",
            "Requirement already satisfied: tzdata>=2022.1 in /usr/local/lib/python3.10/dist-packages (from pandas>=0.17.0->heamy) (2024.1)\n",
            "Requirement already satisfied: joblib>=1.1.1 in /usr/local/lib/python3.10/dist-packages (from scikit-learn>=0.17.0->heamy) (1.4.2)\n",
            "Requirement already satisfied: threadpoolctl>=2.0.0 in /usr/local/lib/python3.10/dist-packages (from scikit-learn>=0.17.0->heamy) (3.5.0)\n",
            "Building wheels for collected packages: heamy\n",
            "  Building wheel for heamy (setup.py) ... \u001b[?25l\u001b[?25hdone\n",
            "  Created wheel for heamy: filename=heamy-0.0.7-py2.py3-none-any.whl size=15347 sha256=ded339fa2b2a4422e6b2247182e81dbce484ca02887894259487d3c58ba4c942\n",
            "  Stored in directory: /root/.cache/pip/wheels/e5/e4/9a/bc85119b96421369998ff0f53c0854b57bfb518c460fe8c5de\n",
            "Successfully built heamy\n",
            "Installing collected packages: heamy\n",
            "Successfully installed heamy-0.0.7\n"
          ]
        }
      ]
    },
    {
      "cell_type": "code",
      "source": [
        "from sklearn.datasets import load_wine, load_iris\n",
        "from sklearn.model_selection import train_test_split\n",
        "from heamy.estimator import Regressor, Classifier\n",
        "from heamy.pipeline import ModelsPipeline\n",
        "from heamy.dataset import Dataset\n",
        "from sklearn.tree import DecisionTreeClassifier, DecisionTreeRegressor, export_graphviz\n",
        "from sklearn.linear_model import LinearRegression\n",
        "from sklearn.ensemble import RandomForestClassifier, RandomForestRegressor\n",
        "from sklearn.metrics import mean_absolute_error, mean_squared_error, mean_squared_log_error, median_absolute_error, r2_score\n"
      ],
      "metadata": {
        "id": "2RcGw7zjkOdA"
      },
      "execution_count": 2,
      "outputs": []
    },
    {
      "cell_type": "markdown",
      "source": [],
      "metadata": {
        "id": "dY_MW8_jkV8h"
      }
    },
    {
      "cell_type": "markdown",
      "source": [
        "### Выберите набор данных (датасет) для решения задачи классификации или регресии."
      ],
      "metadata": {
        "id": "6RBiwFUgp6YO"
      }
    },
    {
      "cell_type": "code",
      "execution_count": 3,
      "metadata": {
        "id": "lfeG2IHVkKWV"
      },
      "outputs": [],
      "source": [
        "# Используем датасет wine\n",
        "wine = load_wine()\n",
        "wine_X = wine.data\n",
        "wine_y = wine.target"
      ]
    },
    {
      "cell_type": "markdown",
      "source": [
        "### С использованием метода train_test_split разделите выборку на обучающую и тестовую."
      ],
      "metadata": {
        "id": "b2EC0t6BqYmf"
      }
    },
    {
      "cell_type": "code",
      "source": [
        "wine_X_train, wine_X_test, wine_y_train, wine_y_test = train_test_split(\n",
        "    wine_X, wine_y, test_size=0.2, random_state=1)"
      ],
      "metadata": {
        "id": "hOTyFAF0qBoj"
      },
      "execution_count": 4,
      "outputs": []
    },
    {
      "cell_type": "markdown",
      "source": [
        "### Стекинг"
      ],
      "metadata": {
        "id": "ZKFCUrPyqvKP"
      }
    },
    {
      "cell_type": "code",
      "source": [
        "# Используем библиотеку heamy\n",
        "# набор данных\n",
        "dataset = Dataset(wine_X_train, wine_y_train, wine_X_test)\n",
        "\n",
        "# модели первого уровня\n",
        "model_tree = Regressor(dataset=dataset, estimator=DecisionTreeRegressor, name='tree')\n",
        "model_lr = Regressor(dataset=dataset, estimator=LinearRegression, name='lr')\n",
        "model_rf = Regressor(dataset=dataset, estimator=RandomForestRegressor, parameters={'n_estimators': 50}, name='rf')"
      ],
      "metadata": {
        "id": "D8gltT4QqGl1"
      },
      "execution_count": 5,
      "outputs": []
    },
    {
      "cell_type": "code",
      "source": [
        "# Эксперимент 1\n",
        "# Первый уровень - две модели: дерево и линейная регрессия\n",
        "# Второй уровень: линейная регрессия\n",
        "\n",
        "pipeline = ModelsPipeline(model_tree, model_lr)\n",
        "stack_ds = pipeline.stack(k=10, seed=1)\n",
        "# модель второго уровня\n",
        "stacker = Regressor(dataset=stack_ds, estimator=LinearRegression)\n",
        "results = stacker.validate(k=10,scorer=mean_absolute_error)"
      ],
      "metadata": {
        "colab": {
          "base_uri": "https://localhost:8080/"
        },
        "id": "_HPL1UEqrcuo",
        "outputId": "6fb4eef4-26bf-4ad9-c2ae-1d74984e881a"
      },
      "execution_count": 6,
      "outputs": [
        {
          "output_type": "stream",
          "name": "stdout",
          "text": [
            "Metric: mean_absolute_error\n",
            "Folds accuracy: [0.13020801865969067, 0.19127858915603108, 0.10080083237096137, 0.12407717068904793, 0.1315581058093838, 0.1762270564280539, 0.38941449620838176, 0.10513095967665544, 0.13969586036137932, 0.21724517674813093]\n",
            "Mean accuracy: 0.17056362661077162\n",
            "Standard Deviation: 0.08120846694965934\n",
            "Variance: 0.006594815104313913\n"
          ]
        }
      ]
    },
    {
      "cell_type": "markdown",
      "source": [
        "### модель многослойного персептрона"
      ],
      "metadata": {
        "id": "pU_wBxpyqard"
      }
    },
    {
      "cell_type": "code",
      "source": [
        "from sklearn.datasets import make_classification\n",
        "from sklearn.model_selection import train_test_split\n",
        "from sklearn.neural_network import MLPClassifier\n",
        "from sklearn.metrics import accuracy_score\n",
        "\n",
        "# Определение параметров MLP\n",
        "mlp_params = {\n",
        "    'hidden_layer_sizes': (50, 50), # Количество нейронов в скрытых слоях\n",
        "    'activation': 'relu', # Функция активации\n",
        "    'solver': 'adam', # Оптимизатор\n",
        "    'alpha': 0.0001, # Коэффициент регуляризации L2\n",
        "    'learning_rate': 'constant', # Стратегия изменения скорости обучения\n",
        "    'learning_rate_init': 0.001, # Начальная скорость обучения\n",
        "    'max_iter': 200, # Максимальное количество итераций\n",
        "    'random_state': 42, # Случайное состояние для воспроизводимости\n",
        "}\n",
        "\n",
        "# Создание и обучение MLP\n",
        "mlp = MLPClassifier(**mlp_params)\n",
        "mlp.fit(wine_X_train, wine_y_train)\n",
        "\n",
        "# Предсказание на тестовом наборе данных\n",
        "y_pred = mlp.predict(wine_X_test)\n",
        "\n",
        "# Оценка качества модели\n",
        "accuracy = accuracy_score(wine_y_test, y_pred)\n",
        "print(f'Accuracy: {accuracy}')\n"
      ],
      "metadata": {
        "colab": {
          "base_uri": "https://localhost:8080/"
        },
        "id": "O733PYuqw1PX",
        "outputId": "92531a41-86db-41e2-ffa6-f34038a59db0"
      },
      "execution_count": 7,
      "outputs": [
        {
          "output_type": "stream",
          "name": "stdout",
          "text": [
            "Accuracy: 0.8611111111111112\n"
          ]
        },
        {
          "output_type": "stream",
          "name": "stderr",
          "text": [
            "/usr/local/lib/python3.10/dist-packages/sklearn/neural_network/_multilayer_perceptron.py:686: ConvergenceWarning: Stochastic Optimizer: Maximum iterations (200) reached and the optimization hasn't converged yet.\n",
            "  warnings.warn(\n"
          ]
        }
      ]
    },
    {
      "cell_type": "markdown",
      "source": [
        "### МГУА\n",
        "\n",
        "Метод группового учёта аргументов (МГУА) — семейство индуктивных алгоритмов для математического моделирования мультипараметрических данных. Метод основан на рекурсивном селективном отборе моделей, на основе которых строятся более сложные модели. Точность моделирования на каждом следующем шаге рекурсии увеличивается за счет усложнения модели.\n",
        "\n"
      ],
      "metadata": {
        "id": "64FhzBB3zCQB"
      }
    },
    {
      "cell_type": "code",
      "source": [
        "!pip install git+https://github.com/bauman-team/GMDH.git\n",
        "!pip install gmdh\n",
        "import gmdh"
      ],
      "metadata": {
        "id": "_NkM48qX3rLf",
        "colab": {
          "base_uri": "https://localhost:8080/"
        },
        "outputId": "5474fec1-57fc-42d8-fb6e-556ac5b2a602"
      },
      "execution_count": 8,
      "outputs": [
        {
          "output_type": "stream",
          "name": "stdout",
          "text": [
            "Collecting git+https://github.com/bauman-team/GMDH.git\n",
            "  Cloning https://github.com/bauman-team/GMDH.git to /tmp/pip-req-build-4mdeeem8\n",
            "  Running command git clone --filter=blob:none --quiet https://github.com/bauman-team/GMDH.git /tmp/pip-req-build-4mdeeem8\n",
            "  Resolved https://github.com/bauman-team/GMDH.git to commit dddc7b9a76b0930d08ac44bd3d7444473552ddb5\n",
            "  Preparing metadata (setup.py) ... \u001b[?25l\u001b[?25hdone\n",
            "Collecting docstring_inheritance (from gmdh==1.0.3)\n",
            "  Downloading docstring_inheritance-2.2.0-py3-none-any.whl (24 kB)\n",
            "Requirement already satisfied: numpy in /usr/local/lib/python3.10/dist-packages (from gmdh==1.0.3) (1.25.2)\n",
            "Building wheels for collected packages: gmdh\n",
            "  \u001b[1;31merror\u001b[0m: \u001b[1msubprocess-exited-with-error\u001b[0m\n",
            "  \n",
            "  \u001b[31m×\u001b[0m \u001b[32mpython setup.py bdist_wheel\u001b[0m did not run successfully.\n",
            "  \u001b[31m│\u001b[0m exit code: \u001b[1;36m1\u001b[0m\n",
            "  \u001b[31m╰─>\u001b[0m See above for output.\n",
            "  \n",
            "  \u001b[1;35mnote\u001b[0m: This error originates from a subprocess, and is likely not a problem with pip.\n",
            "  Building wheel for gmdh (setup.py) ... \u001b[?25lerror\n",
            "\u001b[31m  ERROR: Failed building wheel for gmdh\u001b[0m\u001b[31m\n",
            "\u001b[0m\u001b[?25h  Running setup.py clean for gmdh\n",
            "Failed to build gmdh\n",
            "\u001b[31mERROR: Could not build wheels for gmdh, which is required to install pyproject.toml-based projects\u001b[0m\u001b[31m\n",
            "\u001b[0mCollecting gmdh\n",
            "  Downloading gmdh-1.0.3-cp310-cp310-manylinux1_x86_64.whl (875 kB)\n",
            "\u001b[2K     \u001b[90m━━━━━━━━━━━━━━━━━━━━━━━━━━━━━━━━━━━━━━━━\u001b[0m \u001b[32m875.3/875.3 kB\u001b[0m \u001b[31m7.9 MB/s\u001b[0m eta \u001b[36m0:00:00\u001b[0m\n",
            "\u001b[?25hCollecting docstring-inheritance (from gmdh)\n",
            "  Using cached docstring_inheritance-2.2.0-py3-none-any.whl (24 kB)\n",
            "Requirement already satisfied: numpy in /usr/local/lib/python3.10/dist-packages (from gmdh) (1.25.2)\n",
            "Installing collected packages: docstring-inheritance, gmdh\n",
            "Successfully installed docstring-inheritance-2.2.0 gmdh-1.0.3\n"
          ]
        }
      ]
    },
    {
      "cell_type": "code",
      "source": [
        "def print_metrics(y_test, y_pred, squared=False):\n",
        "    print(f\"R^2: {r2_score(y_test, y_pred)}\")\n",
        "    crit_name = \"MSE\" if squared else \"RMSE\"\n",
        "    print(f\"{crit_name}: {mean_squared_error(y_test, y_pred, squared=squared)}\")\n",
        "    print(f\"MAE: {mean_absolute_error(y_test, y_pred)}\")"
      ],
      "metadata": {
        "colab": {
          "base_uri": "https://localhost:8080/"
        },
        "id": "KnqrVqZDmTnw",
        "outputId": "ca9e6864-fe2d-416d-df6e-8a674bbde19e"
      },
      "execution_count": 9,
      "outputs": [
        {
          "output_type": "stream",
          "name": "stderr",
          "text": [
            "/usr/local/lib/python3.10/dist-packages/ipykernel/ipkernel.py:283: DeprecationWarning: `should_run_async` will not call `transform_cell` automatically in the future. Please pass the result to `transformed_cell` argument and any exception that happen during thetransform in `preprocessing_exc_tuple` in IPython 7.17 and above.\n",
            "  and should_run_async(code)\n"
          ]
        }
      ]
    },
    {
      "cell_type": "markdown",
      "source": [
        "**Суть алгоритма Combi** заключается в том, что он ищет наилучшую комбинацию полиномов для каждого слоя модели, чтобы максимально точно предсказывать целевые значения. Этот алгоритм часто используется в задачах регрессии, когда данные имеют сложную нелинейную зависимость."
      ],
      "metadata": {
        "id": "uRRQiR994jr2"
      }
    },
    {
      "cell_type": "code",
      "source": [
        "combi_model = gmdh.Combi()\n",
        "combi_model.fit(wine_X_train, wine_y_train, verbose=1, n_jobs=-1, test_size=0.24, limit=0,\n",
        "                       criterion=gmdh.Criterion(gmdh.CriterionType.REGULARITY))\n",
        "print('\\n', combi_model.get_best_polynomial(), '\\n')\n",
        "y_pred_combi = combi_model.predict(wine_X_test)\n",
        "\n",
        "print_metrics(wine_y_test, y_pred_combi)"
      ],
      "metadata": {
        "colab": {
          "base_uri": "https://localhost:8080/"
        },
        "id": "7dO-w5KrkLq8",
        "outputId": "9ce5550a-8089-4f37-e68f-f85055bfce19"
      },
      "execution_count": 12,
      "outputs": [
        {
          "output_type": "stream",
          "name": "stderr",
          "text": [
            "/usr/local/lib/python3.10/dist-packages/ipykernel/ipkernel.py:283: DeprecationWarning: `should_run_async` will not call `transform_cell` automatically in the future. Please pass the result to `transformed_cell` argument and any exception that happen during thetransform in `preprocessing_exc_tuple` in IPython 7.17 and above.\n",
            "  and should_run_async(code)\n"
          ]
        },
        {
          "output_type": "stream",
          "name": "stdout",
          "text": [
            "LEVEL 1  [=========================] 100% [00m:00s] (13 combinations) error=4.694871\n",
            "LEVEL 2  [=========================] 100% [00m:00s] (78 combinations) error=3.713584\n",
            "LEVEL 3  [=========================] 100% [00m:00s] (286 combinations) error=2.77371\n",
            "LEVEL 4  [=========================] 100% [00m:00s] (715 combinations) error=2.325969\n",
            "LEVEL 5  [=========================] 100% [00m:00s] (1287 combinations) error=2.199924\n",
            "LEVEL 6  [=========================] 100% [00m:00s] (1716 combinations) error=2.169235\n",
            "LEVEL 7  [=========================] 100% [00m:00s] (1716 combinations) error=2.168724\n",
            "LEVEL 8  [=========================] 100% [00m:00s] (1287 combinations) error=2.188381\n",
            "\n",
            " y = 0.0337*x4 + 0.0187*x6 - 0.3757*x7 - 0.0294*x8 + 0.088*x10 - 0.2374*x11 - 0.001*x13 + 1.554 \n",
            "\n",
            "R^2: 0.861338679731356\n",
            "RMSE: 0.2931115535963\n",
            "MAE: 0.2270581109591602\n"
          ]
        }
      ]
    },
    {
      "cell_type": "markdown",
      "source": [
        "ГМД - это метод машинного обучения, который используется для создания прогнозных моделей из данных. Он основан на принципе \"построения модели по частям\".\n",
        "\n",
        "**Основные принципы ГМД(Групповой Метод Данных):**\n",
        "\n",
        "* **Построение множества моделей:** ГМД строит множество различных моделей с различными комбинациями входных переменных.\n",
        "* **Оценка качества:** Качество каждой модели оценивается на основе данных, которые не использовались для ее обучения.\n",
        "* **Выбор лучшей модели:**  Модель с наилучшими прогнозирующими свойствами выбирается в качестве окончательной модели.\n"
      ],
      "metadata": {
        "id": "Xb18N8nx6C3W"
      }
    },
    {
      "cell_type": "code",
      "source": [
        "ria_model = gmdh.Ria()\n",
        "ria_model.fit(wine_X_train, wine_y_train, verbose=1, n_jobs=-1, test_size=0.52, limit=0, k_best=7,\n",
        "                     criterion=gmdh.Criterion(gmdh.CriterionType.REGULARITY),\n",
        "                     polynomial_type=gmdh.PolynomialType.LINEAR)\n",
        "y_pred_ria = ria_model.predict(wine_X_test)\n",
        "print_metrics(wine_y_test, y_pred_ria)"
      ],
      "metadata": {
        "colab": {
          "base_uri": "https://localhost:8080/"
        },
        "id": "pkYcV_s4medv",
        "outputId": "448d4063-fbdf-45bb-c3c4-9a1ae7863f7a"
      },
      "execution_count": 11,
      "outputs": [
        {
          "output_type": "stream",
          "name": "stderr",
          "text": [
            "/usr/local/lib/python3.10/dist-packages/ipykernel/ipkernel.py:283: DeprecationWarning: `should_run_async` will not call `transform_cell` automatically in the future. Please pass the result to `transformed_cell` argument and any exception that happen during thetransform in `preprocessing_exc_tuple` in IPython 7.17 and above.\n",
            "  and should_run_async(code)\n"
          ]
        },
        {
          "output_type": "stream",
          "name": "stdout",
          "text": [
            "LEVEL 1  [=========================] 100% [00m:00s] (78 combinations) error=11.237277\n",
            "LEVEL 2  [=========================] 100% [00m:00s] (91 combinations) error=9.196032\n",
            "LEVEL 3  [=========================] 100% [00m:00s] (91 combinations) error=7.506619\n",
            "LEVEL 4  [=========================] 100% [00m:00s] (91 combinations) error=6.087672\n",
            "LEVEL 5  [=========================] 100% [00m:00s] (91 combinations) error=5.803263\n",
            "LEVEL 6  [=========================] 100% [00m:00s] (91 combinations) error=5.480924\n",
            "LEVEL 7  [=========================] 100% [00m:00s] (91 combinations) error=5.055742\n",
            "LEVEL 8  [=========================] 100% [00m:00s] (91 combinations) error=4.804413\n",
            "LEVEL 9  [=========================] 100% [00m:00s] (91 combinations) error=4.616872\n",
            "LEVEL 10 [=========================] 100% [00m:00s] (91 combinations) error=4.525378\n",
            "LEVEL 11 [=========================] 100% [00m:00s] (91 combinations) error=4.506103\n",
            "LEVEL 12 [=========================] 100% [00m:00s] (91 combinations) error=4.498368\n",
            "LEVEL 13 [=========================] 100% [00m:00s] (91 combinations) error=4.486153\n",
            "LEVEL 14 [=========================] 100% [00m:00s] (91 combinations) error=4.485931\n",
            "LEVEL 15 [=========================] 100% [00m:00s] (91 combinations) error=4.485591\n",
            "LEVEL 16 [=========================] 100% [00m:00s] (91 combinations) error=4.485584\n",
            "LEVEL 17 [=========================] 100% [00m:00s] (91 combinations) error=4.485573\n",
            "LEVEL 18 [=========================] 100% [00m:00s] (91 combinations) error=4.485573\n",
            "LEVEL 19 [=========================] 100% [00m:00s] (91 combinations) error=4.485572\n",
            "LEVEL 20 [=========================] 100% [00m:00s] (91 combinations) error=4.485572\n",
            "LEVEL 21 [=========================] 100% [00m:00s] (91 combinations) error=4.485572\n",
            "LEVEL 22 [=========================] 100% [00m:00s] (91 combinations) error=4.485572\n",
            "LEVEL 23 [=========================] 100% [00m:00s] (91 combinations) error=4.485572\n",
            "LEVEL 24 [=========================] 100% [00m:00s] (91 combinations) error=4.485572\n",
            "LEVEL 25 [=========================] 100% [00m:00s] (91 combinations) error=4.485572\n",
            "LEVEL 26 [=========================] 100% [00m:00s] (91 combinations) error=4.485572\n",
            "LEVEL 27 [=========================] 100% [00m:00s] (91 combinations) error=4.485572\n",
            "LEVEL 28 [=========================] 100% [00m:00s] (91 combinations) error=4.485572\n",
            "LEVEL 29 [=========================] 100% [00m:00s] (91 combinations) error=4.485572\n",
            "LEVEL 30 [=========================] 100% [00m:00s] (91 combinations) error=4.485572\n",
            "LEVEL 31 [=========================] 100% [00m:00s] (91 combinations) error=4.485572\n",
            "LEVEL 32 [=========================] 100% [00m:00s] (91 combinations) error=4.485572\n",
            "LEVEL 33 [=========================] 100% [00m:00s] (91 combinations) error=4.485572\n",
            "R^2: 0.8894515959071463\n",
            "RMSE: 0.2617167451586178\n",
            "MAE: 0.2067247772570705\n"
          ]
        }
      ]
    }
  ]
}